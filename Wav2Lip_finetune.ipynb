{
  "cells": [
    {
      "cell_type": "markdown",
      "metadata": {
        "id": "view-in-github",
        "colab_type": "text"
      },
      "source": [
        "<a href=\"https://colab.research.google.com/github/piyushgit011/wav2lip/blob/main/Wav2Lip_finetune.ipynb\" target=\"_parent\"><img src=\"https://colab.research.google.com/assets/colab-badge.svg\" alt=\"Open In Colab\"/></a>"
      ]
    },
    {
      "cell_type": "markdown",
      "metadata": {
        "id": "yJ5taGmPcWV-"
      },
      "source": [
        "# **Get the code and models**"
      ]
    },
    {
      "cell_type": "code",
      "execution_count": 1,
      "metadata": {
        "id": "Qgo-oaI3JU2u",
        "colab": {
          "base_uri": "https://localhost:8080/"
        },
        "outputId": "5021f896-a665-4ced-edcb-099283a69a13"
      },
      "outputs": [
        {
          "output_type": "stream",
          "name": "stdout",
          "text": [
            "\n",
            "Done\n"
          ]
        }
      ],
      "source": [
        "#@title <h1>Step1: Setup Wav2Lip</h1>\n",
        "!rm -rf /content/sample_data\n",
        "!mkdir /content/sample_data\n",
        "\n",
        "!git clone https://github.com/zabique/Wav2Lip\n",
        "\n",
        "#download the pretrained model\n",
        "!wget 'https://iiitaphyd-my.sharepoint.com/personal/radrabha_m_research_iiit_ac_in/_layouts/15/download.aspx?share=EdjI7bZlgApMqsVoEUUXpLsBxqXbn5z8VTmoxp55YNDcIA' -O '/content/Wav2Lip/checkpoints/wav2lip_gan.pth'\n",
        "a = !pip install https://raw.githubusercontent.com/AwaleSajil/ghc/master/ghc-1.0-py3-none-any.whl\n",
        "\n",
        "# !pip uninstall tensorflow tensorflow-gpu\n",
        "!cd Wav2Lip && pip install -r requirements.txt\n",
        "\n",
        "#download pretrained model for face detection\n",
        "!wget \"https://www.adrianbulat.com/downloads/python-fan/s3fd-619a316812.pth\" -O \"/content/Wav2Lip/face_detection/detection/sfd/s3fd.pth\"\n",
        "\n",
        "!pip install -q youtube-dl\n",
        "!pip install ffmpeg-python\n",
        "!pip install librosa==0.9.1\n",
        "\n",
        "from IPython.display import HTML, Audio\n",
        "from google.colab.output import eval_js\n",
        "from base64 import b64decode\n",
        "import numpy as np\n",
        "from scipy.io.wavfile import read as wav_read\n",
        "import io\n",
        "import ffmpeg\n",
        "\n",
        "from IPython.display import clear_output\n",
        "clear_output()\n",
        "print(\"\\nDone\")"
      ]
    },
    {
      "cell_type": "code",
      "execution_count": 10,
      "metadata": {
        "id": "fT8njpBCJ7gD",
        "outputId": "09f0a422-7385-4457-c37b-93aa522cedef",
        "colab": {
          "base_uri": "https://localhost:8080/"
        }
      },
      "outputs": [
        {
          "output_type": "stream",
          "name": "stdout",
          "text": [
            "\n",
            "Done! now press X\n"
          ]
        }
      ],
      "source": [
        "#@title 5. Delete old uploaded samples & result files, so you can start over again.\n",
        "%rm /content/Wav2Lip/results/*\n",
        "from IPython.display import clear_output\n",
        "clear_output()"
      ]
    },
    {
      "cell_type": "markdown",
      "metadata": {
        "id": "BgMkHOFqT2fK"
      },
      "source": [
        "\n",
        "\n",
        "---\n",
        "\n"
      ]
    },
    {
      "cell_type": "markdown",
      "metadata": {
        "id": "q9NvwrJ3vRcs"
      },
      "source": [
        "\n",
        "\n",
        "---\n",
        "\n"
      ]
    },
    {
      "cell_type": "code",
      "execution_count": 11,
      "metadata": {
        "id": "45XW4SZAzIz5",
        "outputId": "3705e496-af97-4971-dc70-4fa5c1874f3e",
        "colab": {
          "base_uri": "https://localhost:8080/"
        }
      },
      "outputs": [
        {
          "output_type": "stream",
          "name": "stdout",
          "text": [
            "Using cuda for inference.\n",
            "Reading video frames...\n",
            "Number of frames available for inference: 2010\n",
            "/content/Wav2Lip/audio.py:100: FutureWarning: Pass sr=16000, n_fft=800 as keyword args. From version 0.10 passing these as positional arguments will result in an error\n",
            "  return librosa.filters.mel(hp.sample_rate, hp.n_fft, n_mels=hp.num_mels,\n",
            "(80, 5386)\n",
            "Length of mel chunks: 2016\n",
            "  0% 0/16 [00:00<?, ?it/s]\n",
            "  0% 0/126 [00:00<?, ?it/s]\u001b[A\n",
            "  1% 1/126 [00:11<23:38, 11.35s/it]\u001b[A\n",
            "  2% 2/126 [00:12<10:32,  5.10s/it]\u001b[A\n",
            "  2% 3/126 [00:12<06:21,  3.10s/it]\u001b[A\n",
            "  3% 4/126 [00:13<04:26,  2.18s/it]\u001b[A\n",
            "  4% 5/126 [00:14<03:25,  1.70s/it]\u001b[A\n",
            "  5% 6/126 [00:15<02:49,  1.41s/it]\u001b[A\n",
            "  6% 7/126 [00:16<02:27,  1.24s/it]\u001b[A\n",
            "  6% 8/126 [00:16<02:09,  1.10s/it]\u001b[A\n",
            "  7% 9/126 [00:17<01:54,  1.02it/s]\u001b[A\n",
            "  8% 10/126 [00:18<01:45,  1.10it/s]\u001b[A\n",
            "  9% 11/126 [00:19<01:38,  1.17it/s]\u001b[A\n",
            " 10% 12/126 [00:19<01:33,  1.22it/s]\u001b[A\n",
            " 10% 13/126 [00:20<01:29,  1.27it/s]\u001b[A\n",
            " 11% 14/126 [00:21<01:25,  1.31it/s]\u001b[A\n",
            " 12% 15/126 [00:22<01:23,  1.33it/s]\u001b[A\n",
            " 13% 16/126 [00:22<01:21,  1.34it/s]\u001b[A\n",
            " 13% 17/126 [00:23<01:21,  1.34it/s]\u001b[A\n",
            " 14% 18/126 [00:24<01:20,  1.35it/s]\u001b[A\n",
            " 15% 19/126 [00:24<01:18,  1.36it/s]\u001b[A\n",
            " 16% 20/126 [00:25<01:17,  1.36it/s]\u001b[A\n",
            " 17% 21/126 [00:26<01:17,  1.36it/s]\u001b[A\n",
            " 17% 22/126 [00:27<01:18,  1.33it/s]\u001b[A\n",
            " 18% 23/126 [00:28<01:20,  1.28it/s]\u001b[A\n",
            " 19% 24/126 [00:28<01:22,  1.24it/s]\u001b[A\n",
            " 20% 25/126 [00:29<01:23,  1.21it/s]\u001b[A\n",
            " 21% 26/126 [00:30<01:20,  1.25it/s]\u001b[A\n",
            " 21% 27/126 [00:31<01:17,  1.27it/s]\u001b[A\n",
            " 22% 28/126 [00:32<01:15,  1.30it/s]\u001b[A\n",
            " 23% 29/126 [00:32<01:13,  1.32it/s]\u001b[A\n",
            " 24% 30/126 [00:33<01:11,  1.34it/s]\u001b[A\n",
            " 25% 31/126 [00:34<01:10,  1.35it/s]\u001b[A\n",
            " 25% 32/126 [00:34<01:10,  1.34it/s]\u001b[A\n",
            " 26% 33/126 [00:35<01:09,  1.34it/s]\u001b[A\n",
            " 27% 34/126 [00:36<01:08,  1.34it/s]\u001b[A\n",
            " 28% 35/126 [00:37<01:07,  1.35it/s]\u001b[A\n",
            " 29% 36/126 [00:37<01:07,  1.34it/s]\u001b[A\n",
            " 29% 37/126 [00:38<01:06,  1.34it/s]\u001b[A\n",
            " 30% 38/126 [00:39<01:05,  1.34it/s]\u001b[A\n",
            " 31% 39/126 [00:40<01:05,  1.32it/s]\u001b[A\n",
            " 32% 40/126 [00:41<01:08,  1.26it/s]\u001b[A\n",
            " 33% 41/126 [00:41<01:09,  1.22it/s]\u001b[A\n",
            " 33% 42/126 [00:42<01:09,  1.21it/s]\u001b[A\n",
            " 34% 43/126 [00:43<01:07,  1.24it/s]\u001b[A\n",
            " 35% 44/126 [00:44<01:04,  1.27it/s]\u001b[A\n",
            " 36% 45/126 [00:45<01:02,  1.29it/s]\u001b[A\n",
            " 37% 46/126 [00:45<01:01,  1.31it/s]\u001b[A\n",
            " 37% 47/126 [00:46<00:59,  1.32it/s]\u001b[A\n",
            " 38% 48/126 [00:47<00:58,  1.33it/s]\u001b[A\n",
            " 39% 49/126 [00:48<00:57,  1.33it/s]\u001b[A\n",
            " 40% 50/126 [00:48<00:57,  1.33it/s]\u001b[A\n",
            " 40% 51/126 [00:49<00:56,  1.33it/s]\u001b[A\n",
            " 41% 52/126 [00:50<00:55,  1.33it/s]\u001b[A\n",
            " 42% 53/126 [00:51<00:54,  1.34it/s]\u001b[A\n",
            " 43% 54/126 [00:51<00:53,  1.34it/s]\u001b[A\n",
            " 44% 55/126 [00:52<00:53,  1.33it/s]\u001b[A\n",
            " 44% 56/126 [00:53<00:54,  1.30it/s]\u001b[A\n",
            " 45% 57/126 [00:54<00:55,  1.24it/s]\u001b[A\n",
            " 46% 58/126 [00:55<00:55,  1.21it/s]\u001b[A\n",
            " 47% 59/126 [00:55<00:55,  1.20it/s]\u001b[A\n",
            " 48% 60/126 [00:56<00:53,  1.24it/s]\u001b[A\n",
            " 48% 61/126 [00:57<00:51,  1.26it/s]\u001b[A\n",
            " 49% 62/126 [00:58<00:49,  1.29it/s]\u001b[A\n",
            " 50% 63/126 [00:58<00:48,  1.30it/s]\u001b[A\n",
            " 51% 64/126 [00:59<00:47,  1.31it/s]\u001b[A\n",
            " 52% 65/126 [01:00<00:46,  1.31it/s]\u001b[A\n",
            " 52% 66/126 [01:01<00:45,  1.33it/s]\u001b[A\n",
            " 53% 67/126 [01:01<00:44,  1.32it/s]\u001b[A\n",
            " 54% 68/126 [01:02<00:43,  1.33it/s]\u001b[A\n",
            " 55% 69/126 [01:03<00:42,  1.33it/s]\u001b[A\n",
            " 56% 70/126 [01:04<00:42,  1.33it/s]\u001b[A\n",
            " 56% 71/126 [01:04<00:41,  1.32it/s]\u001b[A\n",
            " 57% 72/126 [01:05<00:40,  1.33it/s]\u001b[A\n",
            " 58% 73/126 [01:06<00:41,  1.29it/s]\u001b[A\n",
            " 59% 74/126 [01:07<00:41,  1.24it/s]\u001b[A\n",
            " 60% 75/126 [01:08<00:42,  1.20it/s]\u001b[A\n",
            " 60% 76/126 [01:09<00:41,  1.20it/s]\u001b[A\n",
            " 61% 77/126 [01:09<00:39,  1.24it/s]\u001b[A\n",
            " 62% 78/126 [01:10<00:37,  1.27it/s]\u001b[A\n",
            " 63% 79/126 [01:11<00:36,  1.30it/s]\u001b[A\n",
            " 63% 80/126 [01:12<00:35,  1.31it/s]\u001b[A\n",
            " 64% 81/126 [01:12<00:34,  1.31it/s]\u001b[A\n",
            " 65% 82/126 [01:13<00:33,  1.32it/s]\u001b[A\n",
            " 66% 83/126 [01:14<00:32,  1.33it/s]\u001b[A\n",
            " 67% 84/126 [01:15<00:31,  1.33it/s]\u001b[A\n",
            " 67% 85/126 [01:15<00:30,  1.33it/s]\u001b[A\n",
            " 68% 86/126 [01:16<00:30,  1.33it/s]\u001b[A\n",
            " 69% 87/126 [01:17<00:29,  1.32it/s]\u001b[A\n",
            " 70% 88/126 [01:18<00:28,  1.32it/s]\u001b[A\n",
            " 71% 89/126 [01:18<00:28,  1.32it/s]\u001b[A\n",
            " 71% 90/126 [01:19<00:28,  1.28it/s]\u001b[A\n",
            " 72% 91/126 [01:20<00:28,  1.24it/s]\u001b[A\n",
            " 73% 92/126 [01:21<00:28,  1.20it/s]\u001b[A\n",
            " 74% 93/126 [01:22<00:27,  1.21it/s]\u001b[A\n",
            " 75% 94/126 [01:23<00:25,  1.23it/s]\u001b[A\n",
            " 75% 95/126 [01:23<00:24,  1.26it/s]\u001b[A\n",
            " 76% 96/126 [01:24<00:23,  1.29it/s]\u001b[A\n",
            " 77% 97/126 [01:25<00:22,  1.30it/s]\u001b[A\n",
            " 78% 98/126 [01:26<00:21,  1.30it/s]\u001b[A\n",
            " 79% 99/126 [01:26<00:20,  1.31it/s]\u001b[A\n",
            " 79% 100/126 [01:27<00:19,  1.31it/s]\u001b[A\n",
            " 80% 101/126 [01:28<00:19,  1.31it/s]\u001b[A\n",
            " 81% 102/126 [01:29<00:18,  1.30it/s]\u001b[A\n",
            " 82% 103/126 [01:29<00:17,  1.31it/s]\u001b[A\n",
            " 83% 104/126 [01:30<00:16,  1.30it/s]\u001b[A\n",
            " 83% 105/126 [01:31<00:16,  1.31it/s]\u001b[A\n",
            " 84% 106/126 [01:32<00:15,  1.29it/s]\u001b[A\n",
            " 85% 107/126 [01:33<00:15,  1.25it/s]\u001b[A\n",
            " 86% 108/126 [01:33<00:14,  1.22it/s]\u001b[A\n",
            " 87% 109/126 [01:34<00:14,  1.19it/s]\u001b[A\n",
            " 87% 110/126 [01:35<00:13,  1.20it/s]\u001b[A\n",
            " 88% 111/126 [01:36<00:12,  1.23it/s]\u001b[A\n",
            " 89% 112/126 [01:37<00:11,  1.26it/s]\u001b[A\n",
            " 90% 113/126 [01:37<00:10,  1.27it/s]\u001b[A\n",
            " 90% 114/126 [01:38<00:09,  1.29it/s]\u001b[A\n",
            " 91% 115/126 [01:39<00:08,  1.30it/s]\u001b[A\n",
            " 92% 116/126 [01:40<00:07,  1.31it/s]\u001b[A\n",
            " 93% 117/126 [01:40<00:06,  1.32it/s]\u001b[A\n",
            " 94% 118/126 [01:41<00:06,  1.32it/s]\u001b[A\n",
            " 94% 119/126 [01:42<00:05,  1.31it/s]\u001b[A\n",
            " 95% 120/126 [01:43<00:04,  1.31it/s]\u001b[A\n",
            " 96% 121/126 [01:44<00:03,  1.31it/s]\u001b[A\n",
            " 97% 122/126 [01:44<00:03,  1.32it/s]\u001b[A\n",
            " 98% 123/126 [01:45<00:02,  1.29it/s]\u001b[A\n",
            " 98% 124/126 [01:46<00:01,  1.24it/s]\u001b[A\n",
            " 99% 125/126 [01:47<00:00,  1.20it/s]\u001b[A\n",
            "100% 126/126 [01:53<00:00,  1.11it/s]\n",
            "Load checkpoint from: checkpoints/wav2lip_gan.pth\n",
            "Model loaded\n",
            "100% 16/16 [02:19<00:00,  8.71s/it]\n",
            "ffmpeg version 4.4.2-0ubuntu0.22.04.1 Copyright (c) 2000-2021 the FFmpeg developers\n",
            "  built with gcc 11 (Ubuntu 11.2.0-19ubuntu1)\n",
            "  configuration: --prefix=/usr --extra-version=0ubuntu0.22.04.1 --toolchain=hardened --libdir=/usr/lib/x86_64-linux-gnu --incdir=/usr/include/x86_64-linux-gnu --arch=amd64 --enable-gpl --disable-stripping --enable-gnutls --enable-ladspa --enable-libaom --enable-libass --enable-libbluray --enable-libbs2b --enable-libcaca --enable-libcdio --enable-libcodec2 --enable-libdav1d --enable-libflite --enable-libfontconfig --enable-libfreetype --enable-libfribidi --enable-libgme --enable-libgsm --enable-libjack --enable-libmp3lame --enable-libmysofa --enable-libopenjpeg --enable-libopenmpt --enable-libopus --enable-libpulse --enable-librabbitmq --enable-librubberband --enable-libshine --enable-libsnappy --enable-libsoxr --enable-libspeex --enable-libsrt --enable-libssh --enable-libtheora --enable-libtwolame --enable-libvidstab --enable-libvorbis --enable-libvpx --enable-libwebp --enable-libx265 --enable-libxml2 --enable-libxvid --enable-libzimg --enable-libzmq --enable-libzvbi --enable-lv2 --enable-omx --enable-openal --enable-opencl --enable-opengl --enable-sdl2 --enable-pocketsphinx --enable-librsvg --enable-libmfx --enable-libdc1394 --enable-libdrm --enable-libiec61883 --enable-chromaprint --enable-frei0r --enable-libx264 --enable-shared\n",
            "  libavutil      56. 70.100 / 56. 70.100\n",
            "  libavcodec     58.134.100 / 58.134.100\n",
            "  libavformat    58. 76.100 / 58. 76.100\n",
            "  libavdevice    58. 13.100 / 58. 13.100\n",
            "  libavfilter     7.110.100 /  7.110.100\n",
            "  libswscale      5.  9.100 /  5.  9.100\n",
            "  libswresample   3.  9.100 /  3.  9.100\n",
            "  libpostproc    55.  9.100 / 55.  9.100\n",
            "\u001b[0;35m[mp3 @ 0x57dd7dc532c0] \u001b[0m\u001b[0;33mEstimating duration from bitrate, this may be inaccurate\n",
            "\u001b[0mInput #0, mp3, from '/content/sample_data/input_audio.wav':\n",
            "  Duration: 00:01:07.32, start: 0.000000, bitrate: 96 kb/s\n",
            "  Stream #0:0: Audio: mp3, 44100 Hz, mono, fltp, 96 kb/s\n",
            "Input #1, avi, from 'temp/result.avi':\n",
            "  Metadata:\n",
            "    software        : Lavf59.27.100\n",
            "  Duration: 00:01:07.20, start: 0.000000, bitrate: 1049 kb/s\n",
            "  Stream #1:0: Video: mpeg4 (Simple Profile) (DIVX / 0x58564944), yuv420p, 640x360 [SAR 1:1 DAR 16:9], 1043 kb/s, 30 fps, 30 tbr, 30 tbn, 30 tbc\n",
            "Stream mapping:\n",
            "  Stream #1:0 -> #0:0 (mpeg4 (native) -> h264 (libx264))\n",
            "  Stream #0:0 -> #0:1 (mp3 (mp3float) -> aac (native))\n",
            "Press [q] to stop, [?] for help\n",
            "\u001b[1;36m[libx264 @ 0x57dd7dcb08c0] \u001b[0m\u001b[0;33m-qscale is ignored, -crf is recommended.\n",
            "\u001b[0m\u001b[1;36m[libx264 @ 0x57dd7dcb08c0] \u001b[0musing SAR=1/1\n",
            "\u001b[1;36m[libx264 @ 0x57dd7dcb08c0] \u001b[0musing cpu capabilities: MMX2 SSE2Fast SSSE3 SSE4.2 AVX FMA3 BMI2 AVX2 AVX512\n",
            "\u001b[1;36m[libx264 @ 0x57dd7dcb08c0] \u001b[0mprofile High, level 3.0, 4:2:0, 8-bit\n",
            "\u001b[1;36m[libx264 @ 0x57dd7dcb08c0] \u001b[0m264 - core 163 r3060 5db6aa6 - H.264/MPEG-4 AVC codec - Copyleft 2003-2021 - http://www.videolan.org/x264.html - options: cabac=1 ref=3 deblock=1:0:0 analyse=0x3:0x113 me=hex subme=7 psy=1 psy_rd=1.00:0.00 mixed_ref=1 me_range=16 chroma_me=1 trellis=1 8x8dct=1 cqm=0 deadzone=21,11 fast_pskip=1 chroma_qp_offset=-2 threads=3 lookahead_threads=1 sliced_threads=0 nr=0 decimate=1 interlaced=0 bluray_compat=0 constrained_intra=0 bframes=3 b_pyramid=2 b_adapt=1 b_bias=0 direct=1 weightb=1 open_gop=0 weightp=2 keyint=250 keyint_min=25 scenecut=40 intra_refresh=0 rc_lookahead=40 rc=crf mbtree=1 crf=23.0 qcomp=0.60 qpmin=0 qpmax=69 qpstep=4 ip_ratio=1.40 aq=1:1.00\n",
            "Output #0, mp4, to 'results/result_voice.mp4':\n",
            "  Metadata:\n",
            "    encoder         : Lavf58.76.100\n",
            "  Stream #0:0: Video: h264 (avc1 / 0x31637661), yuv420p(progressive), 640x360 [SAR 1:1 DAR 16:9], q=2-31, 30 fps, 15360 tbn\n",
            "    Metadata:\n",
            "      encoder         : Lavc58.134.100 libx264\n",
            "    Side data:\n",
            "      cpb: bitrate max/min/avg: 0/0/0 buffer size: 0 vbv_delay: N/A\n",
            "  Stream #0:1: Audio: aac (LC) (mp4a / 0x6134706D), 44100 Hz, mono, fltp, 69 kb/s\n",
            "    Metadata:\n",
            "      encoder         : Lavc58.134.100 aac\n",
            "frame= 2016 fps=107 q=-1.0 Lsize=    3542kB time=00:01:07.31 bitrate= 431.1kbits/s speed=3.57x    \n",
            "video:2904kB audio:571kB subtitle:0kB other streams:0kB global headers:0kB muxing overhead: 1.956679%\n",
            "\u001b[1;36m[libx264 @ 0x57dd7dcb08c0] \u001b[0mframe I:10    Avg QP:16.97  size: 10199\n",
            "\u001b[1;36m[libx264 @ 0x57dd7dcb08c0] \u001b[0mframe P:1152  Avg QP:21.90  size:  2030\n",
            "\u001b[1;36m[libx264 @ 0x57dd7dcb08c0] \u001b[0mframe B:854   Avg QP:24.43  size:   623\n",
            "\u001b[1;36m[libx264 @ 0x57dd7dcb08c0] \u001b[0mconsecutive B-frames: 37.2% 15.2% 11.8% 35.9%\n",
            "\u001b[1;36m[libx264 @ 0x57dd7dcb08c0] \u001b[0mmb I  I16..4: 40.0% 49.1% 10.9%\n",
            "\u001b[1;36m[libx264 @ 0x57dd7dcb08c0] \u001b[0mmb P  I16..4:  1.0%  4.8%  0.3%  P16..4: 16.7%  7.6%  4.3%  0.0%  0.0%    skip:65.3%\n",
            "\u001b[1;36m[libx264 @ 0x57dd7dcb08c0] \u001b[0mmb B  I16..4:  0.2%  0.8%  0.0%  B16..8: 22.7%  2.6%  0.5%  direct: 0.5%  skip:72.8%  L0:50.4% L1:43.4% BI: 6.2%\n",
            "\u001b[1;36m[libx264 @ 0x57dd7dcb08c0] \u001b[0m8x8 transform intra:74.8% inter:68.5%\n",
            "\u001b[1;36m[libx264 @ 0x57dd7dcb08c0] \u001b[0mcoded y,uvDC,uvAC intra: 34.4% 32.4% 8.6% inter: 6.1% 4.3% 0.1%\n",
            "\u001b[1;36m[libx264 @ 0x57dd7dcb08c0] \u001b[0mi16 v,h,dc,p: 51% 26% 16%  7%\n",
            "\u001b[1;36m[libx264 @ 0x57dd7dcb08c0] \u001b[0mi8 v,h,dc,ddl,ddr,vr,hd,vl,hu: 29% 15% 44%  2%  2%  2%  2%  2%  2%\n",
            "\u001b[1;36m[libx264 @ 0x57dd7dcb08c0] \u001b[0mi4 v,h,dc,ddl,ddr,vr,hd,vl,hu: 21% 32% 14%  4%  6%  7%  7%  5%  4%\n",
            "\u001b[1;36m[libx264 @ 0x57dd7dcb08c0] \u001b[0mi8c dc,h,v,p: 53% 21% 24%  2%\n",
            "\u001b[1;36m[libx264 @ 0x57dd7dcb08c0] \u001b[0mWeighted P-Frames: Y:0.3% UV:0.0%\n",
            "\u001b[1;36m[libx264 @ 0x57dd7dcb08c0] \u001b[0mref P L0: 72.1% 13.3% 10.2%  4.3%  0.0%\n",
            "\u001b[1;36m[libx264 @ 0x57dd7dcb08c0] \u001b[0mref B L0: 86.5% 10.4%  3.1%\n",
            "\u001b[1;36m[libx264 @ 0x57dd7dcb08c0] \u001b[0mref B L1: 97.6%  2.4%\n",
            "\u001b[1;36m[libx264 @ 0x57dd7dcb08c0] \u001b[0mkb/s:353.87\n",
            "\u001b[1;36m[aac @ 0x57dd7dcb2e40] \u001b[0mQavg: 158.533\n"
          ]
        }
      ],
      "source": [
        "#@title 3.Use more padding and refactor for faster and effective training\n",
        "!cd Wav2Lip && python inference.py --checkpoint_path checkpoints/wav2lip_gan.pth --face \"/content/sample_data/input-video1.mp4\" --audio \"/content/sample_data/input_audio.wav\" --resize_factor 2 --pads 10 0 0 0"
      ]
    }
  ],
  "metadata": {
    "accelerator": "GPU",
    "colab": {
      "provenance": [],
      "include_colab_link": true
    },
    "kernelspec": {
      "display_name": "Python 3",
      "name": "python3"
    }
  },
  "nbformat": 4,
  "nbformat_minor": 0
}